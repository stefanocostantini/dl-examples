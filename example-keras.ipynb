{
 "cells": [
  {
   "cell_type": "code",
   "execution_count": 4,
   "metadata": {},
   "outputs": [],
   "source": [
    "%matplotlib inline\n",
    "%load_ext watermark"
   ]
  },
  {
   "cell_type": "code",
   "execution_count": 5,
   "metadata": {},
   "outputs": [],
   "source": [
    "import pandas as pd\n",
    "import numpy as np\n",
    "import itertools\n",
    "from scipy.sparse import csr_matrix\n",
    "import sklearn\n",
    "import time\n",
    "import datetime"
   ]
  },
  {
   "cell_type": "code",
   "execution_count": 6,
   "metadata": {},
   "outputs": [
    {
     "name": "stdout",
     "output_type": "stream",
     "text": [
      "keras     2.2.4\n",
      "pandas    0.22.0\n",
      "numpy     1.14.5\n",
      "sklearn   0.19.1\n",
      "\n"
     ]
    }
   ],
   "source": [
    "%watermark -iv"
   ]
  },
  {
   "cell_type": "code",
   "execution_count": 7,
   "metadata": {},
   "outputs": [],
   "source": [
    "# Function to extract info from sparse vectors in string form\n",
    "def vector_string_to_tuple(string):\n",
    "    row = string.split(\"[\")\n",
    "    dim = row[0][1:-1]\n",
    "    indices = eval('['+row[1][:-1])\n",
    "    values = eval('['+row[2][:-1])\n",
    "    return (dim, indices, values)\n",
    "\n",
    "def get_dim(string):\n",
    "    return int(string.split(',')[0][0:])"
   ]
  },
  {
   "cell_type": "code",
   "execution_count": 8,
   "metadata": {},
   "outputs": [],
   "source": [
    "dataset = pd.read_csv('s3://schibsted-spt-common-dev/user-areas/stefano.costantini@schibsted.com/embeddings-experiment/data-for-experiment-csv/year=2018/month=12/day=5/part-00000')"
   ]
  },
  {
   "cell_type": "code",
   "execution_count": 9,
   "metadata": {},
   "outputs": [
    {
     "data": {
      "text/html": [
       "<div>\n",
       "<style scoped>\n",
       "    .dataframe tbody tr th:only-of-type {\n",
       "        vertical-align: middle;\n",
       "    }\n",
       "\n",
       "    .dataframe tbody tr th {\n",
       "        vertical-align: top;\n",
       "    }\n",
       "\n",
       "    .dataframe thead th {\n",
       "        text-align: right;\n",
       "    }\n",
       "</style>\n",
       "<table border=\"1\" class=\"dataframe\">\n",
       "  <thead>\n",
       "    <tr style=\"text-align: right;\">\n",
       "      <th></th>\n",
       "      <th>gender</th>\n",
       "      <th>demFeatures</th>\n",
       "      <th>numEventsTotal</th>\n",
       "      <th>lookFeatures</th>\n",
       "      <th>age</th>\n",
       "      <th>id</th>\n",
       "    </tr>\n",
       "  </thead>\n",
       "  <tbody>\n",
       "    <tr>\n",
       "      <th>0</th>\n",
       "      <td>1.0</td>\n",
       "      <td>(1758,[6,9,32,43,46,48,51,62,72,76,80,96,103,1...</td>\n",
       "      <td>20.0</td>\n",
       "      <td>(28218,[26733,17808,9494,8531],[1.0,1.0,1.0,1.0])</td>\n",
       "      <td>5.0</td>\n",
       "      <td>0</td>\n",
       "    </tr>\n",
       "    <tr>\n",
       "      <th>1</th>\n",
       "      <td>0.0</td>\n",
       "      <td>(1758,[5,8,11,15,19,32,34,39,40,46,47,58,66,69...</td>\n",
       "      <td>437.0</td>\n",
       "      <td>(28218,[23376,17809,5323,5478,25782,11969,1911...</td>\n",
       "      <td>5.0</td>\n",
       "      <td>1</td>\n",
       "    </tr>\n",
       "    <tr>\n",
       "      <th>2</th>\n",
       "      <td>0.0</td>\n",
       "      <td>(1758,[57,69,110,111,139,237,256,279,298,301,3...</td>\n",
       "      <td>20.0</td>\n",
       "      <td>(28218,[18455,8062,2565,11949,28095,18580,8531...</td>\n",
       "      <td>5.0</td>\n",
       "      <td>2</td>\n",
       "    </tr>\n",
       "    <tr>\n",
       "      <th>3</th>\n",
       "      <td>0.0</td>\n",
       "      <td>(1758,[0,7,20,25,40,52,62,69,80,84,99,101,105,...</td>\n",
       "      <td>206.0</td>\n",
       "      <td>(28218,[19013,1225,8530,23481,10954],[1.0,1.0,...</td>\n",
       "      <td>4.0</td>\n",
       "      <td>3</td>\n",
       "    </tr>\n",
       "    <tr>\n",
       "      <th>4</th>\n",
       "      <td>0.0</td>\n",
       "      <td>(1758,[3,30,34,50,103,135,139,141,145,165,168,...</td>\n",
       "      <td>80.0</td>\n",
       "      <td>(28218,[7109,27250,25065,23246,20583,25858,137...</td>\n",
       "      <td>2.0</td>\n",
       "      <td>4</td>\n",
       "    </tr>\n",
       "  </tbody>\n",
       "</table>\n",
       "</div>"
      ],
      "text/plain": [
       "   gender                                        demFeatures  numEventsTotal  \\\n",
       "0     1.0  (1758,[6,9,32,43,46,48,51,62,72,76,80,96,103,1...            20.0   \n",
       "1     0.0  (1758,[5,8,11,15,19,32,34,39,40,46,47,58,66,69...           437.0   \n",
       "2     0.0  (1758,[57,69,110,111,139,237,256,279,298,301,3...            20.0   \n",
       "3     0.0  (1758,[0,7,20,25,40,52,62,69,80,84,99,101,105,...           206.0   \n",
       "4     0.0  (1758,[3,30,34,50,103,135,139,141,145,165,168,...            80.0   \n",
       "\n",
       "                                        lookFeatures  age  id  \n",
       "0  (28218,[26733,17808,9494,8531],[1.0,1.0,1.0,1.0])  5.0   0  \n",
       "1  (28218,[23376,17809,5323,5478,25782,11969,1911...  5.0   1  \n",
       "2  (28218,[18455,8062,2565,11949,28095,18580,8531...  5.0   2  \n",
       "3  (28218,[19013,1225,8530,23481,10954],[1.0,1.0,...  4.0   3  \n",
       "4  (28218,[7109,27250,25065,23246,20583,25858,137...  2.0   4  "
      ]
     },
     "execution_count": 9,
     "metadata": {},
     "output_type": "execute_result"
    }
   ],
   "source": [
    "dataset.head()"
   ]
  },
  {
   "cell_type": "code",
   "execution_count": 10,
   "metadata": {},
   "outputs": [
    {
     "data": {
      "text/plain": [
       "(740194, 6)"
      ]
     },
     "execution_count": 10,
     "metadata": {},
     "output_type": "execute_result"
    }
   ],
   "source": [
    "dataset.shape"
   ]
  },
  {
   "cell_type": "markdown",
   "metadata": {},
   "source": [
    "Remove rows where vector is not expressed in `sparse` format (fix this in Spark!)"
   ]
  },
  {
   "cell_type": "code",
   "execution_count": 11,
   "metadata": {},
   "outputs": [],
   "source": [
    "dataset_clean = dataset[dataset['demFeatures'].str.contains(\"\\(1758,\")]"
   ]
  },
  {
   "cell_type": "code",
   "execution_count": 12,
   "metadata": {},
   "outputs": [
    {
     "data": {
      "text/plain": [
       "(739519, 6)"
      ]
     },
     "execution_count": 12,
     "metadata": {},
     "output_type": "execute_result"
    }
   ],
   "source": [
    "dataset_clean.shape"
   ]
  },
  {
   "cell_type": "code",
   "execution_count": 77,
   "metadata": {},
   "outputs": [
    {
     "data": {
      "text/plain": [
       "(295808, 6)"
      ]
     },
     "execution_count": 77,
     "metadata": {},
     "output_type": "execute_result"
    }
   ],
   "source": [
    "# Make dataset smaller for speed of prototyping. Will remove later\n",
    "ds_small = dataset_clean.sample(frac=0.4, replace=False)\n",
    "ds_small.shape"
   ]
  },
  {
   "cell_type": "markdown",
   "metadata": {},
   "source": [
    "Add flag column to split between training and test"
   ]
  },
  {
   "cell_type": "code",
   "execution_count": 78,
   "metadata": {},
   "outputs": [],
   "source": [
    "uniform = np.random.uniform(0,1,ds_small.shape[0])\n",
    "flag = uniform <= 0.8"
   ]
  },
  {
   "cell_type": "code",
   "execution_count": 79,
   "metadata": {},
   "outputs": [],
   "source": [
    "ds_small['isTraining'] = flag"
   ]
  },
  {
   "cell_type": "code",
   "execution_count": 80,
   "metadata": {},
   "outputs": [
    {
     "data": {
      "text/html": [
       "<div>\n",
       "<style scoped>\n",
       "    .dataframe tbody tr th:only-of-type {\n",
       "        vertical-align: middle;\n",
       "    }\n",
       "\n",
       "    .dataframe tbody tr th {\n",
       "        vertical-align: top;\n",
       "    }\n",
       "\n",
       "    .dataframe thead th {\n",
       "        text-align: right;\n",
       "    }\n",
       "</style>\n",
       "<table border=\"1\" class=\"dataframe\">\n",
       "  <thead>\n",
       "    <tr style=\"text-align: right;\">\n",
       "      <th></th>\n",
       "      <th>gender</th>\n",
       "      <th>demFeatures</th>\n",
       "      <th>numEventsTotal</th>\n",
       "      <th>lookFeatures</th>\n",
       "      <th>age</th>\n",
       "      <th>id</th>\n",
       "    </tr>\n",
       "    <tr>\n",
       "      <th>isTraining</th>\n",
       "      <th></th>\n",
       "      <th></th>\n",
       "      <th></th>\n",
       "      <th></th>\n",
       "      <th></th>\n",
       "      <th></th>\n",
       "    </tr>\n",
       "  </thead>\n",
       "  <tbody>\n",
       "    <tr>\n",
       "      <th>False</th>\n",
       "      <td>59357</td>\n",
       "      <td>59357</td>\n",
       "      <td>59357</td>\n",
       "      <td>59357</td>\n",
       "      <td>59357</td>\n",
       "      <td>59357</td>\n",
       "    </tr>\n",
       "    <tr>\n",
       "      <th>True</th>\n",
       "      <td>236451</td>\n",
       "      <td>236451</td>\n",
       "      <td>236451</td>\n",
       "      <td>236451</td>\n",
       "      <td>236451</td>\n",
       "      <td>236451</td>\n",
       "    </tr>\n",
       "  </tbody>\n",
       "</table>\n",
       "</div>"
      ],
      "text/plain": [
       "            gender  demFeatures  numEventsTotal  lookFeatures     age      id\n",
       "isTraining                                                                   \n",
       "False        59357        59357           59357         59357   59357   59357\n",
       "True        236451       236451          236451        236451  236451  236451"
      ]
     },
     "execution_count": 80,
     "metadata": {},
     "output_type": "execute_result"
    }
   ],
   "source": [
    "ds_small.groupby(['isTraining']).count()"
   ]
  },
  {
   "cell_type": "markdown",
   "metadata": {},
   "source": [
    "Split dataset into training and test by adding a flag column"
   ]
  },
  {
   "cell_type": "code",
   "execution_count": 81,
   "metadata": {},
   "outputs": [],
   "source": [
    "ds = ds_small"
   ]
  },
  {
   "cell_type": "markdown",
   "metadata": {},
   "source": [
    "## Demographics features"
   ]
  },
  {
   "cell_type": "markdown",
   "metadata": {},
   "source": [
    "#### Prepare data"
   ]
  },
  {
   "cell_type": "markdown",
   "metadata": {},
   "source": [
    "(for training and test)\n",
    "- Extract feature info into 3 separate columns\n",
    "- Create sparse matrix\n",
    "- Convert to dense"
   ]
  },
  {
   "cell_type": "code",
   "execution_count": 82,
   "metadata": {},
   "outputs": [
    {
     "name": "stdout",
     "output_type": "stream",
     "text": [
      "Start: 2019-01-03 16:18:34\n",
      "End: 2019-01-03 16:24:44\n"
     ]
    }
   ],
   "source": [
    "start = time.time()\n",
    "ds[['dim', 'indices', 'values']] = ds['demFeatures'].apply(vector_string_to_tuple).apply(pd.Series)\n",
    "end = time.time()\n",
    "print('Start: ' + datetime.datetime.fromtimestamp(start).strftime('%Y-%m-%d %H:%M:%S'))\n",
    "print('End: ' + datetime.datetime.fromtimestamp(end).strftime('%Y-%m-%d %H:%M:%S'))\n"
   ]
  },
  {
   "cell_type": "code",
   "execution_count": 83,
   "metadata": {
    "scrolled": true
   },
   "outputs": [
    {
     "data": {
      "text/html": [
       "<div>\n",
       "<style scoped>\n",
       "    .dataframe tbody tr th:only-of-type {\n",
       "        vertical-align: middle;\n",
       "    }\n",
       "\n",
       "    .dataframe tbody tr th {\n",
       "        vertical-align: top;\n",
       "    }\n",
       "\n",
       "    .dataframe thead th {\n",
       "        text-align: right;\n",
       "    }\n",
       "</style>\n",
       "<table border=\"1\" class=\"dataframe\">\n",
       "  <thead>\n",
       "    <tr style=\"text-align: right;\">\n",
       "      <th></th>\n",
       "      <th>gender</th>\n",
       "      <th>age</th>\n",
       "      <th>dim</th>\n",
       "      <th>indices</th>\n",
       "      <th>values</th>\n",
       "      <th>isTraining</th>\n",
       "    </tr>\n",
       "  </thead>\n",
       "  <tbody>\n",
       "    <tr>\n",
       "      <th>96871</th>\n",
       "      <td>0.0</td>\n",
       "      <td>3.0</td>\n",
       "      <td>1758</td>\n",
       "      <td>[6, 14, 32, 42, 51, 90, 106, 111, 117, 125, 13...</td>\n",
       "      <td>[0.7576647265975284, 0.7301917969989459, 0.301...</td>\n",
       "      <td>False</td>\n",
       "    </tr>\n",
       "    <tr>\n",
       "      <th>231643</th>\n",
       "      <td>0.0</td>\n",
       "      <td>3.0</td>\n",
       "      <td>1758</td>\n",
       "      <td>[4, 6, 18, 20, 23, 26, 33, 42, 46, 61, 62, 71,...</td>\n",
       "      <td>[0.8474579417380421, 0.7576647265975284, 0.854...</td>\n",
       "      <td>True</td>\n",
       "    </tr>\n",
       "    <tr>\n",
       "      <th>226582</th>\n",
       "      <td>0.0</td>\n",
       "      <td>4.0</td>\n",
       "      <td>1758</td>\n",
       "      <td>[0, 6, 7, 8, 9, 10, 11, 13, 14, 18, 19, 20, 21...</td>\n",
       "      <td>[2.9570266002477417, 3.936941404709105, 3.0539...</td>\n",
       "      <td>True</td>\n",
       "    </tr>\n",
       "    <tr>\n",
       "      <th>170526</th>\n",
       "      <td>1.0</td>\n",
       "      <td>6.0</td>\n",
       "      <td>1758</td>\n",
       "      <td>[50, 69, 86, 105, 139, 189, 197, 203, 216, 222...</td>\n",
       "      <td>[2.102045681115026, 0.33246924679030343, 0.141...</td>\n",
       "      <td>True</td>\n",
       "    </tr>\n",
       "    <tr>\n",
       "      <th>724300</th>\n",
       "      <td>0.0</td>\n",
       "      <td>2.0</td>\n",
       "      <td>1758</td>\n",
       "      <td>[1, 3, 4, 11, 15, 25, 27, 30, 34, 36, 37, 38, ...</td>\n",
       "      <td>[1.0923179968443555, 0.8870621179958298, 0.847...</td>\n",
       "      <td>True</td>\n",
       "    </tr>\n",
       "  </tbody>\n",
       "</table>\n",
       "</div>"
      ],
      "text/plain": [
       "        gender  age   dim                                            indices  \\\n",
       "96871      0.0  3.0  1758  [6, 14, 32, 42, 51, 90, 106, 111, 117, 125, 13...   \n",
       "231643     0.0  3.0  1758  [4, 6, 18, 20, 23, 26, 33, 42, 46, 61, 62, 71,...   \n",
       "226582     0.0  4.0  1758  [0, 6, 7, 8, 9, 10, 11, 13, 14, 18, 19, 20, 21...   \n",
       "170526     1.0  6.0  1758  [50, 69, 86, 105, 139, 189, 197, 203, 216, 222...   \n",
       "724300     0.0  2.0  1758  [1, 3, 4, 11, 15, 25, 27, 30, 34, 36, 37, 38, ...   \n",
       "\n",
       "                                                   values  isTraining  \n",
       "96871   [0.7576647265975284, 0.7301917969989459, 0.301...       False  \n",
       "231643  [0.8474579417380421, 0.7576647265975284, 0.854...        True  \n",
       "226582  [2.9570266002477417, 3.936941404709105, 3.0539...        True  \n",
       "170526  [2.102045681115026, 0.33246924679030343, 0.141...        True  \n",
       "724300  [1.0923179968443555, 0.8870621179958298, 0.847...        True  "
      ]
     },
     "execution_count": 83,
     "metadata": {},
     "output_type": "execute_result"
    }
   ],
   "source": [
    "dem = ds[['gender', 'age', 'dim', 'indices', 'values', 'isTraining']]\n",
    "dem.head()"
   ]
  },
  {
   "cell_type": "markdown",
   "metadata": {},
   "source": [
    "#### Training"
   ]
  },
  {
   "cell_type": "code",
   "execution_count": 84,
   "metadata": {},
   "outputs": [
    {
     "data": {
      "text/plain": [
       "(236451, 6)"
      ]
     },
     "execution_count": 84,
     "metadata": {},
     "output_type": "execute_result"
    }
   ],
   "source": [
    "dem_train = dem[dem['isTraining'] == True]\n",
    "dem_train.shape"
   ]
  },
  {
   "cell_type": "code",
   "execution_count": 85,
   "metadata": {},
   "outputs": [],
   "source": [
    "non_empty = [len(x) for x in dem_train['indices'].values]\n",
    "row_data = [[i]*x for i, x in enumerate(non_empty)]"
   ]
  },
  {
   "cell_type": "code",
   "execution_count": 86,
   "metadata": {},
   "outputs": [],
   "source": [
    "D = get_dim(dem_train['dim'].values[0])"
   ]
  },
  {
   "cell_type": "code",
   "execution_count": 87,
   "metadata": {},
   "outputs": [],
   "source": [
    "X = csr_matrix((list(itertools.chain(*dem_train['values'].values)),\n",
    "                (list(itertools.chain(*row_data)), list(itertools.chain(*dem_train['indices'].values)))),\n",
    "               shape=(len(dem_train), D))"
   ]
  },
  {
   "cell_type": "code",
   "execution_count": 88,
   "metadata": {},
   "outputs": [],
   "source": [
    "validation_size = 0.1\n",
    "validation_rows = int(dem_train.shape[0]*validation_size)\n",
    "train_features_all = pd.DataFrame(X.toarray())\n",
    "# Training set\n",
    "train_features = train_features_all[validation_rows:]\n",
    "# Validation set\n",
    "val_features = train_features_all[:validation_rows:]"
   ]
  },
  {
   "cell_type": "code",
   "execution_count": 89,
   "metadata": {},
   "outputs": [
    {
     "name": "stdout",
     "output_type": "stream",
     "text": [
      "(212806, 1758) (23645, 1758)\n"
     ]
    }
   ],
   "source": [
    "print(train_features.shape,\n",
    "      val_features.shape)"
   ]
  },
  {
   "cell_type": "code",
   "execution_count": 90,
   "metadata": {},
   "outputs": [
    {
     "name": "stdout",
     "output_type": "stream",
     "text": [
      "(212806,) (23645,) (212806, 8) (23645, 8)\n"
     ]
    }
   ],
   "source": [
    "train_gender_targets_all = dem_train['gender'].values\n",
    "from keras.utils import to_categorical\n",
    "train_age_targets_all = to_categorical(dem_train['age'].values)\n",
    "# Training labels\n",
    "train_gender_targets = train_gender_targets_all[validation_rows:]\n",
    "val_gender_targets = train_gender_targets_all[:validation_rows]\n",
    "train_age_targets = train_age_targets_all[validation_rows:]\n",
    "val_age_targets = train_age_targets_all[:validation_rows]\n",
    "print(train_gender_targets.shape,\n",
    "      val_gender_targets.shape,\n",
    "      train_age_targets.shape,\n",
    "      val_age_targets.shape)"
   ]
  },
  {
   "cell_type": "markdown",
   "metadata": {},
   "source": [
    "#### Test"
   ]
  },
  {
   "cell_type": "code",
   "execution_count": 91,
   "metadata": {},
   "outputs": [
    {
     "data": {
      "text/plain": [
       "(59357, 6)"
      ]
     },
     "execution_count": 91,
     "metadata": {},
     "output_type": "execute_result"
    }
   ],
   "source": [
    "dem_test = dem[dem['isTraining'] == False]\n",
    "dem_test.shape"
   ]
  },
  {
   "cell_type": "code",
   "execution_count": 92,
   "metadata": {},
   "outputs": [],
   "source": [
    "non_empty = [len(x) for x in dem_test['indices'].values]\n",
    "row_data = [[i]*x for i, x in enumerate(non_empty)]"
   ]
  },
  {
   "cell_type": "code",
   "execution_count": 93,
   "metadata": {},
   "outputs": [],
   "source": [
    "X = csr_matrix((list(itertools.chain(*dem_test['values'].values)),\n",
    "                (list(itertools.chain(*row_data)), list(itertools.chain(*dem_test['indices'].values)))),\n",
    "               shape=(len(dem_test), D))"
   ]
  },
  {
   "cell_type": "code",
   "execution_count": 94,
   "metadata": {},
   "outputs": [],
   "source": [
    "test_features = pd.DataFrame(X.toarray())"
   ]
  },
  {
   "cell_type": "code",
   "execution_count": 95,
   "metadata": {},
   "outputs": [],
   "source": [
    "test_gender_targets = dem_test['gender'].values\n",
    "test_age_targets = to_categorical(dem_test['age'].values)"
   ]
  },
  {
   "cell_type": "markdown",
   "metadata": {},
   "source": [
    "#### Fitting a model to predict gender and age jointly"
   ]
  },
  {
   "cell_type": "code",
   "execution_count": 96,
   "metadata": {},
   "outputs": [],
   "source": [
    "from keras.models import Model\n",
    "from keras import layers\n",
    "from keras import Input"
   ]
  },
  {
   "cell_type": "code",
   "execution_count": 97,
   "metadata": {},
   "outputs": [],
   "source": [
    "# Parameters\n",
    "num_age_groups = train_age_targets.shape[1]\n",
    "epochs = 10\n",
    "batch_size = 100"
   ]
  },
  {
   "cell_type": "code",
   "execution_count": 98,
   "metadata": {},
   "outputs": [],
   "source": [
    "# Defining the model\n",
    "feature_input = Input(shape=(D,))\n",
    "x = layers.Dense(D, activation='relu')(feature_input)\n",
    "x = layers.Dense(1024, activation='relu')(x)\n",
    "x = layers.Dropout(0.4, seed=1234)(x)\n",
    "x = layers.Dense(1024, activation='relu')(x)\n",
    "x = layers.Dropout(0.4, seed=1234)(x)\n",
    "x = layers.Dense(512, activation='relu')(x)\n",
    "x = layers.Dropout(0.2, seed=1234)(x)\n",
    "x = layers.Dense(256, activation='relu')(x)\n",
    "x = layers.Dropout(0.1, seed=1234)(x)\n",
    "x = layers.Dense(128, activation='relu')(x)\n",
    "x = layers.Dropout(0.1, seed=1234)(x)\n",
    "x = layers.Dense(64, activation='relu')(x)\n",
    "x = layers.Dropout(0.1, seed=1234)(x)\n",
    "x = layers.Dense(32, activation='relu')(x)\n",
    "x = layers.Dropout(0.1, seed=1234)(x)\n",
    "x = layers.Dense(16, activation='relu')(x)\n",
    "gender_prediction = layers.Dense(1, activation='sigmoid', name='gender')(x)\n",
    "age_prediction = layers.Dense(num_age_groups, activation='softmax', name='age')(x)"
   ]
  },
  {
   "cell_type": "code",
   "execution_count": 99,
   "metadata": {},
   "outputs": [],
   "source": [
    "model = Model(feature_input, [gender_prediction, age_prediction])"
   ]
  },
  {
   "cell_type": "code",
   "execution_count": 70,
   "metadata": {},
   "outputs": [],
   "source": [
    "#model.summary()"
   ]
  },
  {
   "cell_type": "code",
   "execution_count": 100,
   "metadata": {},
   "outputs": [],
   "source": [
    "model.compile(optimizer='rmsprop',\n",
    "              loss={'gender': 'binary_crossentropy',\n",
    "                    'age': 'categorical_crossentropy'},\n",
    "              loss_weights={'gender': 0.4,\n",
    "                            'age': 0.6},\n",
    "              metrics=['accuracy'])"
   ]
  },
  {
   "cell_type": "code",
   "execution_count": 101,
   "metadata": {},
   "outputs": [
    {
     "name": "stdout",
     "output_type": "stream",
     "text": [
      "Train on 212806 samples, validate on 23645 samples\n",
      "Epoch 1/10\n",
      "212806/212806 [==============================] - 37s 172us/step - loss: 1.1667 - gender_loss: 0.5239 - age_loss: 1.5952 - gender_acc: 0.7404 - age_acc: 0.3223 - val_loss: 1.0822 - val_gender_loss: 0.5052 - val_age_loss: 1.4669 - val_gender_acc: 0.7608 - val_age_acc: 0.3735\n",
      "Epoch 2/10\n",
      "212806/212806 [==============================] - 34s 159us/step - loss: 1.0668 - gender_loss: 0.4580 - age_loss: 1.4726 - gender_acc: 0.7971 - age_acc: 0.3754 - val_loss: 1.0918 - val_gender_loss: 0.4909 - val_age_loss: 1.4923 - val_gender_acc: 0.7873 - val_age_acc: 0.3589\n",
      "Epoch 3/10\n",
      "212806/212806 [==============================] - 34s 158us/step - loss: 1.0386 - gender_loss: 0.4414 - age_loss: 1.4367 - gender_acc: 0.8053 - age_acc: 0.3969 - val_loss: 1.0315 - val_gender_loss: 0.4403 - val_age_loss: 1.4256 - val_gender_acc: 0.8008 - val_age_acc: 0.3978\n",
      "Epoch 4/10\n",
      "212806/212806 [==============================] - 34s 157us/step - loss: 1.0147 - gender_loss: 0.4310 - age_loss: 1.4038 - gender_acc: 0.8121 - age_acc: 0.4112 - val_loss: 1.0294 - val_gender_loss: 0.4423 - val_age_loss: 1.4208 - val_gender_acc: 0.8051 - val_age_acc: 0.4055\n",
      "Epoch 5/10\n",
      "212806/212806 [==============================] - 34s 158us/step - loss: 0.9898 - gender_loss: 0.4172 - age_loss: 1.3716 - gender_acc: 0.8211 - age_acc: 0.4264 - val_loss: 1.0377 - val_gender_loss: 0.4451 - val_age_loss: 1.4327 - val_gender_acc: 0.7933 - val_age_acc: 0.4031\n",
      "Epoch 6/10\n",
      "212806/212806 [==============================] - 33s 156us/step - loss: 0.9656 - gender_loss: 0.4064 - age_loss: 1.3384 - gender_acc: 0.8278 - age_acc: 0.4446 - val_loss: 1.0325 - val_gender_loss: 0.4439 - val_age_loss: 1.4249 - val_gender_acc: 0.8038 - val_age_acc: 0.4062\n",
      "Epoch 7/10\n",
      "212806/212806 [==============================] - 33s 154us/step - loss: 0.9397 - gender_loss: 0.3973 - age_loss: 1.3014 - gender_acc: 0.8349 - age_acc: 0.4631 - val_loss: 1.0671 - val_gender_loss: 0.4606 - val_age_loss: 1.4714 - val_gender_acc: 0.7970 - val_age_acc: 0.3893\n",
      "Epoch 8/10\n",
      "212806/212806 [==============================] - 33s 155us/step - loss: 0.9108 - gender_loss: 0.3887 - age_loss: 1.2589 - gender_acc: 0.8410 - age_acc: 0.4849 - val_loss: 1.0704 - val_gender_loss: 0.4700 - val_age_loss: 1.4706 - val_gender_acc: 0.7927 - val_age_acc: 0.4050\n",
      "Epoch 9/10\n",
      "212806/212806 [==============================] - 33s 156us/step - loss: 0.8821 - gender_loss: 0.3802 - age_loss: 1.2167 - gender_acc: 0.8456 - age_acc: 0.5059 - val_loss: 1.0768 - val_gender_loss: 0.4694 - val_age_loss: 1.4817 - val_gender_acc: 0.7942 - val_age_acc: 0.3984\n",
      "Epoch 10/10\n",
      "212806/212806 [==============================] - 34s 160us/step - loss: 0.8564 - gender_loss: 0.3764 - age_loss: 1.1764 - gender_acc: 0.8509 - age_acc: 0.5279 - val_loss: 1.0952 - val_gender_loss: 0.4681 - val_age_loss: 1.5133 - val_gender_acc: 0.8016 - val_age_acc: 0.3929\n"
     ]
    }
   ],
   "source": [
    "history = model.fit(train_features, \n",
    "          {'gender': train_gender_targets,\n",
    "           'age': train_age_targets},\n",
    "          epochs=epochs, batch_size=batch_size,\n",
    "          validation_data=(val_features, \n",
    "          {'gender': val_gender_targets,\n",
    "           'age': val_age_targets}))"
   ]
  },
  {
   "cell_type": "code",
   "execution_count": 102,
   "metadata": {},
   "outputs": [
    {
     "data": {
      "image/png": "[encoded data removed]",
      "text/plain": [
       "<Figure size 432x288 with 1 Axes>"
      ]
     },
     "metadata": {},
     "output_type": "display_data"
    },
    {
     "data": {
      "image/png": "[encoded data removed]",
      "text/plain": [
       "<Figure size 432x288 with 1 Axes>"
      ]
     },
     "metadata": {},
     "output_type": "display_data"
    },
    {
     "data": {
      "image/png": "[encoded data removed]",
      "text/plain": [
       "<Figure size 432x288 with 1 Axes>"
      ]
     },
     "metadata": {},
     "output_type": "display_data"
    }
   ],
   "source": [
    "import matplotlib.pyplot as plt\n",
    "import matplotlib.gridspec as gridspec\n",
    "\n",
    "# Total Loss\n",
    "loss = history.history['loss']\n",
    "val_loss = history.history['val_loss']\n",
    "epochs = range(1, len(loss) + 1)\n",
    "plt.plot(epochs, loss, 'bo', label='Training loss')\n",
    "plt.plot(epochs, val_loss, 'b', label='Validation loss')\n",
    "plt.title('Joint - Training and validation loss')\n",
    "plt.xlabel('Epochs')\n",
    "plt.ylabel('Loss')\n",
    "plt.legend()\n",
    "plt.show()\n",
    "\n",
    "# Gender Loss\n",
    "loss = history.history['gender_loss']\n",
    "val_loss = history.history['val_gender_loss']\n",
    "epochs = range(1, len(loss) + 1)\n",
    "plt.plot(epochs, loss, 'bo', label='Training loss')\n",
    "plt.plot(epochs, val_loss, 'b', label='Validation loss')\n",
    "plt.title('Gender - Training and validation loss')\n",
    "plt.xlabel('Epochs')\n",
    "plt.ylabel('Loss')\n",
    "plt.legend()\n",
    "plt.show()\n",
    "\n",
    "# Age Loss\n",
    "loss = history.history['age_loss']\n",
    "val_loss = history.history['val_age_loss']\n",
    "epochs = range(1, len(loss) + 1)\n",
    "plt.plot(epochs, loss, 'bo', label='Training loss')\n",
    "plt.plot(epochs, val_loss, 'b', label='Validation loss')\n",
    "plt.title('Age - Training and validation loss')\n",
    "plt.xlabel('Epochs')\n",
    "plt.ylabel('Loss')\n",
    "plt.legend()\n",
    "plt.show()"
   ]
  },
  {
   "cell_type": "code",
   "execution_count": 103,
   "metadata": {},
   "outputs": [
    {
     "data": {
      "image/png": "[encoded data removed]",
      "text/plain": [
       "<Figure size 432x288 with 1 Axes>"
      ]
     },
     "metadata": {},
     "output_type": "display_data"
    },
    {
     "data": {
      "image/png": "[encoded data removed]",
      "text/plain": [
       "<Figure size 432x288 with 1 Axes>"
      ]
     },
     "metadata": {},
     "output_type": "display_data"
    }
   ],
   "source": [
    "# Gender accuracy\n",
    "acc = history.history['gender_acc']\n",
    "val_acc = history.history['val_gender_acc']\n",
    "epochs = range(1, len(loss) + 1)\n",
    "plt.subplots(1)\n",
    "plt.plot(epochs, acc, 'bo', label='Training accuracy')\n",
    "plt.plot(epochs, val_acc, 'b', label='Validation accuracy')\n",
    "plt.title('Gender - Training and validation accuracy')\n",
    "plt.xlabel('Epochs')\n",
    "plt.ylabel('Loss')\n",
    "plt.legend()\n",
    "plt.show()\n",
    "\n",
    "# Age accuracy\n",
    "acc = history.history['age_acc']\n",
    "val_acc = history.history['val_age_acc']\n",
    "epochs = range(1, len(loss) + 1)\n",
    "plt.subplots(1)\n",
    "plt.plot(epochs, acc, 'bo', label='Training accuracy')\n",
    "plt.plot(epochs, val_acc, 'b', label='Validation accuracy')\n",
    "plt.title('Age - Training and validation accuracy')\n",
    "plt.xlabel('Epochs')\n",
    "plt.ylabel('Loss')\n",
    "plt.legend()\n",
    "plt.show()"
   ]
  },
  {
   "cell_type": "markdown",
   "metadata": {},
   "source": [
    "#### Predictions on test set"
   ]
  },
  {
   "cell_type": "code",
   "execution_count": 104,
   "metadata": {},
   "outputs": [],
   "source": [
    "test_predictions = model.predict(test_features)"
   ]
  },
  {
   "cell_type": "code",
   "execution_count": 105,
   "metadata": {},
   "outputs": [
    {
     "name": "stdout",
     "output_type": "stream",
     "text": [
      "(59357, 1) (59357, 8)\n"
     ]
    }
   ],
   "source": [
    "test_gender_pred = test_predictions[0]\n",
    "test_age_pred = test_predictions[1]\n",
    "print(test_gender_pred.shape, test_age_pred.shape)"
   ]
  },
  {
   "cell_type": "code",
   "execution_count": 106,
   "metadata": {},
   "outputs": [],
   "source": [
    "test_gender_pred_labels = np.round(test_gender_pred)\n",
    "test_age_pred_labels = np.argmax(test_age_pred, axis=1)"
   ]
  },
  {
   "cell_type": "code",
   "execution_count": 107,
   "metadata": {},
   "outputs": [
    {
     "name": "stdout",
     "output_type": "stream",
     "text": [
      "Accuracy  0.7995181697188201\n",
      "AUC  0.8640494547687749\n",
      "             precision    recall  f1-score   support\n",
      "\n",
      "        0.0       0.80      0.87      0.84     34984\n",
      "        1.0       0.79      0.70      0.74     24373\n",
      "\n",
      "avg / total       0.80      0.80      0.80     59357\n",
      "\n"
     ]
    }
   ],
   "source": [
    "# Gender\n",
    "# For comparison, production in NO is:\n",
    "# Accuracy: 0.830\n",
    "# AUC: 0.862\n",
    "\n",
    "from sklearn.metrics import accuracy_score, roc_auc_score, classification_report\n",
    "print('Accuracy ', accuracy_score(test_gender_targets, test_gender_pred_labels))\n",
    "print('AUC ', roc_auc_score(test_gender_targets, test_gender_pred))\n",
    "print(classification_report(test_gender_targets, test_gender_pred_labels))"
   ]
  },
  {
   "cell_type": "code",
   "execution_count": 108,
   "metadata": {},
   "outputs": [
    {
     "name": "stdout",
     "output_type": "stream",
     "text": [
      "Accuracy  0.39341610930471554\n",
      "             precision    recall  f1-score   support\n",
      "\n",
      "          1       0.20      0.00      0.00       772\n",
      "          2       0.48      0.29      0.37      6243\n",
      "          3       0.43      0.44      0.43     13835\n",
      "          4       0.36      0.44      0.40     13860\n",
      "          5       0.36      0.47      0.40     12257\n",
      "          6       0.36      0.27      0.31      7555\n",
      "          7       0.59      0.33      0.42      4835\n",
      "\n",
      "avg / total       0.40      0.39      0.39     59357\n",
      "\n"
     ]
    }
   ],
   "source": [
    "# Age\n",
    "# For comparison, production in NO is:\n",
    "# Accuracy: 0.446\n",
    "\n",
    "print('Accuracy ', accuracy_score(np.argmax(test_age_targets, axis=1), test_age_pred_labels))\n",
    "print(classification_report(np.argmax(test_age_targets, axis=1), test_age_pred_labels))"
   ]
  },
  {
   "cell_type": "markdown",
   "metadata": {},
   "source": [
    "#### Baseline comparisons"
   ]
  },
  {
   "cell_type": "code",
   "execution_count": 109,
   "metadata": {
    "scrolled": true
   },
   "outputs": [
    {
     "name": "stdout",
     "output_type": "stream",
     "text": [
      "Accuracy  0.5893828866014118\n",
      "AUC  0.5\n",
      "             precision    recall  f1-score   support\n",
      "\n",
      "        0.0       0.59      1.00      0.74     34984\n",
      "        1.0       0.00      0.00      0.00     24373\n",
      "\n",
      "avg / total       0.35      0.59      0.44     59357\n",
      "\n"
     ]
    },
    {
     "name": "stderr",
     "output_type": "stream",
     "text": [
      "/home/ubuntu/anaconda3/envs/tensorflow_p36/lib/python3.6/site-packages/sklearn/metrics/classification.py:1135: UndefinedMetricWarning: Precision and F-score are ill-defined and being set to 0.0 in labels with no predicted samples.\n",
      "  'precision', 'predicted', average, warn_for)\n"
     ]
    }
   ],
   "source": [
    "# Gender\n",
    "# predicting the dominant class\n",
    "unique, counts = np.unique(test_gender_targets, return_counts=True)\n",
    "dominant = np.argmax(counts)\n",
    "\n",
    "test_gender_pred_baseline = np.repeat(dominant, test_gender_pred.shape[0])\n",
    "test_gender_pred_labels_baseline = np.repeat(dominant, test_gender_pred.shape[0])\n",
    "\n",
    "print('Accuracy ', accuracy_score(test_gender_targets, test_gender_pred_labels_baseline))\n",
    "print('AUC ', roc_auc_score(test_gender_targets, test_gender_pred_baseline))\n",
    "print(classification_report(test_gender_targets, test_gender_pred_labels_baseline))"
   ]
  },
  {
   "cell_type": "code",
   "execution_count": 111,
   "metadata": {},
   "outputs": [
    {
     "name": "stdout",
     "output_type": "stream",
     "text": [
      "Accuracy  0.13039742574591034\n",
      "             precision    recall  f1-score   support\n",
      "\n",
      "          0       0.00      0.00      0.00         0\n",
      "          1       0.01      0.14      0.02       772\n",
      "          2       0.10      0.14      0.12      6243\n",
      "          3       0.24      0.14      0.18     13835\n",
      "          4       0.23      0.14      0.18     13860\n",
      "          5       0.20      0.14      0.17     12257\n",
      "          6       0.13      0.14      0.13      7555\n",
      "          7       0.00      0.00      0.00      4835\n",
      "\n",
      "avg / total       0.18      0.13      0.15     59357\n",
      "\n"
     ]
    },
    {
     "name": "stderr",
     "output_type": "stream",
     "text": [
      "/home/ubuntu/anaconda3/envs/tensorflow_p36/lib/python3.6/site-packages/sklearn/metrics/classification.py:1135: UndefinedMetricWarning: Precision and F-score are ill-defined and being set to 0.0 in labels with no predicted samples.\n",
      "  'precision', 'predicted', average, warn_for)\n",
      "/home/ubuntu/anaconda3/envs/tensorflow_p36/lib/python3.6/site-packages/sklearn/metrics/classification.py:1137: UndefinedMetricWarning: Recall and F-score are ill-defined and being set to 0.0 in labels with no true samples.\n",
      "  'recall', 'true', average, warn_for)\n"
     ]
    }
   ],
   "source": [
    "# Age\n",
    "# Predicting randomly based on popularity of each class \n",
    "unique, counts = np.unique(dem_test['age'].values, return_counts=True)\n",
    "props = counts / sum(counts)\n",
    "test_age_pred_labels_baseline = np.random.choice(7, test_age_pred.shape[0], props.any())\n",
    "\n",
    "print('Accuracy ', accuracy_score(np.argmax(test_age_targets, axis=1), test_age_pred_labels_baseline))\n",
    "print(classification_report(np.argmax(test_age_targets, axis=1), test_age_pred_labels_baseline))\n",
    "\n",
    "# Another option is to use the most popular class for everyone. This gives an accuracy of about ~0.24"
   ]
  },
  {
   "cell_type": "code",
   "execution_count": null,
   "metadata": {},
   "outputs": [],
   "source": []
  }
 ],
 "metadata": {
  "kernelspec": {
   "display_name": "Python [conda env:tensorflow_p36]",
   "language": "python",
   "name": "conda-env-tensorflow_p36-py"
  },
  "language_info": {
   "codemirror_mode": {
    "name": "ipython",
    "version": 3
   },
   "file_extension": ".py",
   "mimetype": "text/x-python",
   "name": "python",
   "nbconvert_exporter": "python",
   "pygments_lexer": "ipython3",
   "version": "3.6.5"
  }
 },
 "nbformat": 4,
 "nbformat_minor": 2
}
